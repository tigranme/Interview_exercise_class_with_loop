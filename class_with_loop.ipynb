{
 "cells": [
  {
   "cell_type": "markdown",
   "metadata": {},
   "source": [
    "\n",
    "Write a function:\n",
    "\n",
    "class Solution { public void solution(int N); }\n",
    "\n",
    "that, given a positive integer N, prints the consecutive numbers from 1 to N, each on a separate line. \n",
    "However, any number divisible by 2, 3 or 5 should be replaced by the word Codility, Test or Coders respectively.\n",
    "\n",
    "If a number is divisible by more than one of the numbers: 2, 3 or 5, it should be replaced by a concatenation of the respective words Codility, Test and Coders in this given order. For example, numbers divisible by both 2 and 3 should be replaced by CodilityTest and numbers divisible by all three numbers: 2, 3 and 5, should be replaced by CodilityTestCoders.\n",
    "\n",
    "For example, here is the output for N = 24:\n",
    "\n",
    "1\n",
    "Codility\n",
    "Test\n",
    "Codility\n",
    "Coders\n",
    "CodilityTest\n",
    "7\n",
    "Codility\n",
    "Test\n",
    "CodilityCoders\n",
    "11\n",
    "CodilityTest\n",
    "13\n",
    "Codility\n",
    "TestCoders\n",
    "Codility\n",
    "17\n",
    "CodilityTest\n",
    "19\n",
    "CodilityCoders\n",
    "Test\n",
    "Codility\n",
    "23\n",
    "CodilityTest\n",
    "The function shouldn't return any value.\n",
    "\n",
    "You can print a string to the output (without or with the end-of-line character) as follows:\n",
    "\n",
    "System.out.print(\"sample string\");\n",
    "System.out.println(\"whole line\");\n",
    "\n",
    "Assume that:\n",
    "\n",
    "N is an integer within the range [1..1,000].\n",
    "In your solution, focus on correctness. The performance of your solution will not be the focus of the assessment."
   ]
  },
  {
   "cell_type": "code",
   "execution_count": 27,
   "metadata": {},
   "outputs": [],
   "source": [
    "class solution:\n",
    "    def __init__(self, number):\n",
    "        self.number = number\n",
    "        \n",
    "    def print_solution(self):\n",
    "        try:\n",
    "            value = float(self.number)\n",
    "            if value <= 0 or value.is_integer() == False:\n",
    "                print(\"N should be an integer greather than 0\")\n",
    "            else:\n",
    "                value = int(value)\n",
    "                for i in range(1,value+1):\n",
    "                    str_Codility = ''\n",
    "                    str_Test = ''\n",
    "                    str_Coders = ''\n",
    "                    if i%2 == 0:\n",
    "                        str_Codility = \"Codility\"\n",
    "                    if i%3 == 0:\n",
    "                        str_Test = \"Test\"\n",
    "                    if i%5 == 0:\n",
    "                        str_Coders = \"Coders\"\n",
    "                    if i%2 == 0 or i%3 == 0 or i%5 == 0:\n",
    "                        print(str_Codility + str_Test + str_Coders)\n",
    "                    else:\n",
    "                        print(str(i))\n",
    "        except ValueError:\n",
    "            print(\"N should be an integer\")\n"
   ]
  },
  {
   "cell_type": "code",
   "execution_count": 32,
   "metadata": {},
   "outputs": [
    {
     "name": "stdout",
     "output_type": "stream",
     "text": [
      "1\n",
      "Codility\n",
      "Test\n",
      "Codility\n",
      "Coders\n",
      "CodilityTest\n",
      "7\n",
      "Codility\n",
      "Test\n",
      "CodilityCoders\n",
      "11\n",
      "CodilityTest\n",
      "13\n",
      "Codility\n",
      "TestCoders\n",
      "Codility\n",
      "17\n",
      "CodilityTest\n",
      "19\n",
      "CodilityCoders\n",
      "Test\n",
      "Codility\n",
      "23\n",
      "CodilityTest\n",
      "Coders\n",
      "Codility\n",
      "Test\n",
      "Codility\n",
      "29\n",
      "CodilityTestCoders\n"
     ]
    }
   ],
   "source": [
    "solution(30).print_solution()"
   ]
  }
 ],
 "metadata": {
  "kernelspec": {
   "display_name": "Python 3",
   "language": "python",
   "name": "python3"
  },
  "language_info": {
   "codemirror_mode": {
    "name": "ipython",
    "version": 3
   },
   "file_extension": ".py",
   "mimetype": "text/x-python",
   "name": "python",
   "nbconvert_exporter": "python",
   "pygments_lexer": "ipython3",
   "version": "3.7.7"
  }
 },
 "nbformat": 4,
 "nbformat_minor": 4
}
